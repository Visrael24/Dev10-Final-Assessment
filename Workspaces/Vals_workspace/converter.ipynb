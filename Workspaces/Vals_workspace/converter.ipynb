{
 "cells": [
  {
   "cell_type": "code",
   "execution_count": 32,
   "metadata": {},
   "outputs": [],
   "source": [
    "import pandas as pd\n",
    "import requests\n",
    "pd.set_option('display.max_columns', None)"
   ]
  },
  {
   "cell_type": "code",
   "execution_count": 33,
   "metadata": {},
   "outputs": [],
   "source": [
    "\n",
    "def convert_to_zip(data_frame):\n",
    "    to_add = []\n",
    "    x = 0\n",
    "    while x < len(data_frame):\n",
    "        temp = []\n",
    "        for i in data_frame[['Latitude', 'Longitude']].iloc[x]:\n",
    "            formatted = \"{:.4f}\".format(i)\n",
    "            temp.append(formatted)\n",
    "        x += 1\n",
    "        try:\n",
    "            xx, xy = temp[0], temp[1]\n",
    "            url = f\"https://nominatim.openstreetmap.org/reverse?format=json&lat={xx}&lon={xy}\"\n",
    "            response = requests.get(url)\n",
    "            data = response.json()\n",
    "            zip_code = data['address'].get('postcode')\n",
    "            if len(zip_code) == 4:\n",
    "                zip_code = str(f'0{zip_code}')\n",
    "            to_add.append(str(zip_code))\n",
    "        except:\n",
    "            to_add.append('null')\n",
    "    return to_add\n",
    "\n",
    "    "
   ]
  },
  {
   "cell_type": "code",
   "execution_count": 45,
   "metadata": {},
   "outputs": [
    {
     "name": "stderr",
     "output_type": "stream",
     "text": [
      "c:\\Users\\valor\\anaconda3\\lib\\site-packages\\IPython\\core\\interactiveshell.py:3444: DtypeWarning: Columns (13,14,15,16,21) have mixed types.Specify dtype option on import or set low_memory=False.\n",
      "  exec(code_obj, self.user_global_ns, self.user_ns)\n"
     ]
    },
    {
     "name": "stdout",
     "output_type": "stream",
     "text": [
      "unable to modify\n"
     ]
    }
   ],
   "source": [
    "x = 2019\n",
    "while x < 2022:\n",
    "    try:\n",
    "        df_ = pd.read_csv(f'../../Data/Star_data/GaN{x}.csv')\n",
    "        df_.fillna('', inplace=True)\n",
    "        df = df_[df_['Country'].str.contains('United States')]\n",
    "        df['ZIP'] = convert_to_zip(df)\n",
    "        df.to_csv(f'../../Data/Star_data/GaN{x}-modified.csv', index=False)\n",
    "        print(f'{x} is done!')\n",
    "        x += 1\n",
    "    except:\n",
    "        print(f'unable to modify {x}')\n",
    "        x += 1"
   ]
  }
 ],
 "metadata": {
  "kernelspec": {
   "display_name": "base",
   "language": "python",
   "name": "python3"
  },
  "language_info": {
   "codemirror_mode": {
    "name": "ipython",
    "version": 3
   },
   "file_extension": ".py",
   "mimetype": "text/x-python",
   "name": "python",
   "nbconvert_exporter": "python",
   "pygments_lexer": "ipython3",
   "version": "3.9.7"
  },
  "orig_nbformat": 4
 },
 "nbformat": 4,
 "nbformat_minor": 2
}

{
 "cells": [
  {
   "cell_type": "code",
   "execution_count": 11,
   "metadata": {},
   "outputs": [],
   "source": [
    "import pandas as pd\n",
    "import matplotlib.pyplot as plt\n",
    "import seaborn as sns\n",
    "import numpy as np\n",
    "from sklearn.linear_model import LinearRegression\n",
    "from sklearn.model_selection import train_test_split\n",
    "from sklearn.metrics import mean_squared_error, r2_score\n",
    "pd.set_option('display.max_columns', None)"
   ]
  },
  {
   "cell_type": "code",
   "execution_count": 12,
   "metadata": {},
   "outputs": [],
   "source": [
    "df = pd.read_csv('../../Data/final_csv_all_data.csv')"
   ]
  },
  {
   "attachments": {},
   "cell_type": "markdown",
   "metadata": {},
   "source": [
    "# Option here\n",
    "if we want to look at a single continent and try to make predictions we can use the cell below to specify the continent"
   ]
  },
  {
   "cell_type": "code",
   "execution_count": 13,
   "metadata": {},
   "outputs": [],
   "source": [
    "# Specifying which continent to look at\n",
    "\n",
    "df = df[df['continent'] == 'North America'].reset_index(drop=True)"
   ]
  },
  {
   "cell_type": "code",
   "execution_count": 14,
   "metadata": {},
   "outputs": [],
   "source": [
    "df.drop(['Code', 'Entity'], inplace=True, axis=1)\n",
    "df = df.dropna().reset_index(drop=True)"
   ]
  },
  {
   "cell_type": "code",
   "execution_count": 15,
   "metadata": {},
   "outputs": [
    {
     "data": {
      "text/plain": [
       "0"
      ]
     },
     "execution_count": 15,
     "metadata": {},
     "output_type": "execute_result"
    }
   ],
   "source": [
    "df['Life_Expectancy_years'].isna().sum()"
   ]
  },
  {
   "cell_type": "code",
   "execution_count": 16,
   "metadata": {},
   "outputs": [],
   "source": [
    "y = df['Life_Expectancy_years']\n",
    "X = df.drop(['Life_Expectancy_years', 'continent'], axis=1)"
   ]
  },
  {
   "attachments": {},
   "cell_type": "markdown",
   "metadata": {},
   "source": [
    "# Note!\n",
    "the cell below needs to be commented out if the df is looking at just 1 continent, else uncomment"
   ]
  },
  {
   "cell_type": "code",
   "execution_count": 17,
   "metadata": {},
   "outputs": [],
   "source": [
    "# comment this out if looking at a single continent\n",
    "\n",
    "# temp = pd.get_dummies(df['continent'])\n",
    "# X = pd.concat([X, temp], axis=1)"
   ]
  },
  {
   "cell_type": "code",
   "execution_count": 18,
   "metadata": {},
   "outputs": [
    {
     "data": {
      "text/html": [
       "<div>\n",
       "<style scoped>\n",
       "    .dataframe tbody tr th:only-of-type {\n",
       "        vertical-align: middle;\n",
       "    }\n",
       "\n",
       "    .dataframe tbody tr th {\n",
       "        vertical-align: top;\n",
       "    }\n",
       "\n",
       "    .dataframe thead th {\n",
       "        text-align: right;\n",
       "    }\n",
       "</style>\n",
       "<table border=\"1\" class=\"dataframe\">\n",
       "  <thead>\n",
       "    <tr style=\"text-align: right;\">\n",
       "      <th></th>\n",
       "      <th>Year</th>\n",
       "      <th>kg_per_yr_per_capita</th>\n",
       "      <th>Production_in_tons</th>\n",
       "      <th>Population (historical estimates)</th>\n",
       "    </tr>\n",
       "  </thead>\n",
       "  <tbody>\n",
       "    <tr>\n",
       "      <th>0</th>\n",
       "      <td>1961</td>\n",
       "      <td>36.002598</td>\n",
       "      <td>800.0</td>\n",
       "      <td>56264</td>\n",
       "    </tr>\n",
       "    <tr>\n",
       "      <th>1</th>\n",
       "      <td>1962</td>\n",
       "      <td>35.949430</td>\n",
       "      <td>800.0</td>\n",
       "      <td>57029</td>\n",
       "    </tr>\n",
       "    <tr>\n",
       "      <th>2</th>\n",
       "      <td>1963</td>\n",
       "      <td>35.465965</td>\n",
       "      <td>800.0</td>\n",
       "      <td>57794</td>\n",
       "    </tr>\n",
       "    <tr>\n",
       "      <th>3</th>\n",
       "      <td>1964</td>\n",
       "      <td>36.215195</td>\n",
       "      <td>700.0</td>\n",
       "      <td>58682</td>\n",
       "    </tr>\n",
       "    <tr>\n",
       "      <th>4</th>\n",
       "      <td>1965</td>\n",
       "      <td>37.298874</td>\n",
       "      <td>800.0</td>\n",
       "      <td>59664</td>\n",
       "    </tr>\n",
       "    <tr>\n",
       "      <th>...</th>\n",
       "      <td>...</td>\n",
       "      <td>...</td>\n",
       "      <td>...</td>\n",
       "      <td>...</td>\n",
       "    </tr>\n",
       "    <tr>\n",
       "      <th>1094</th>\n",
       "      <td>2016</td>\n",
       "      <td>21.688387</td>\n",
       "      <td>5348160.0</td>\n",
       "      <td>327210208</td>\n",
       "    </tr>\n",
       "    <tr>\n",
       "      <th>1095</th>\n",
       "      <td>2017</td>\n",
       "      <td>22.080343</td>\n",
       "      <td>5475780.0</td>\n",
       "      <td>329791232</td>\n",
       "    </tr>\n",
       "    <tr>\n",
       "      <th>1096</th>\n",
       "      <td>2018</td>\n",
       "      <td>22.443901</td>\n",
       "      <td>5264770.0</td>\n",
       "      <td>332140032</td>\n",
       "    </tr>\n",
       "    <tr>\n",
       "      <th>1097</th>\n",
       "      <td>2019</td>\n",
       "      <td>22.569592</td>\n",
       "      <td>5349930.0</td>\n",
       "      <td>334319680</td>\n",
       "    </tr>\n",
       "    <tr>\n",
       "      <th>1098</th>\n",
       "      <td>2020</td>\n",
       "      <td>22.454920</td>\n",
       "      <td>5349930.0</td>\n",
       "      <td>335942016</td>\n",
       "    </tr>\n",
       "  </tbody>\n",
       "</table>\n",
       "<p>1099 rows × 4 columns</p>\n",
       "</div>"
      ],
      "text/plain": [
       "      Year  kg_per_yr_per_capita  Production_in_tons  \\\n",
       "0     1961             36.002598               800.0   \n",
       "1     1962             35.949430               800.0   \n",
       "2     1963             35.465965               800.0   \n",
       "3     1964             36.215195               700.0   \n",
       "4     1965             37.298874               800.0   \n",
       "...    ...                   ...                 ...   \n",
       "1094  2016             21.688387           5348160.0   \n",
       "1095  2017             22.080343           5475780.0   \n",
       "1096  2018             22.443901           5264770.0   \n",
       "1097  2019             22.569592           5349930.0   \n",
       "1098  2020             22.454920           5349930.0   \n",
       "\n",
       "      Population (historical estimates)  \n",
       "0                                 56264  \n",
       "1                                 57029  \n",
       "2                                 57794  \n",
       "3                                 58682  \n",
       "4                                 59664  \n",
       "...                                 ...  \n",
       "1094                          327210208  \n",
       "1095                          329791232  \n",
       "1096                          332140032  \n",
       "1097                          334319680  \n",
       "1098                          335942016  \n",
       "\n",
       "[1099 rows x 4 columns]"
      ]
     },
     "execution_count": 18,
     "metadata": {},
     "output_type": "execute_result"
    }
   ],
   "source": [
    "X"
   ]
  },
  {
   "cell_type": "code",
   "execution_count": 19,
   "metadata": {},
   "outputs": [
    {
     "name": "stdout",
     "output_type": "stream",
     "text": [
      "Mean Squared Error: 21.398301351524704\n",
      "0.6642847622379959\n"
     ]
    }
   ],
   "source": [
    "X_train, X_test, y_train, y_test = train_test_split(X, y, test_size=0.2, random_state=1)\n",
    "model = LinearRegression()\n",
    "model.fit(X_train, y_train)\n",
    "y_pred = model.predict(X_test)\n",
    "mse = mean_squared_error(y_test, y_pred)\n",
    "print('Mean Squared Error:', mse)\n",
    "print(model.score(X_test, y_test))"
   ]
  },
  {
   "cell_type": "code",
   "execution_count": 27,
   "metadata": {},
   "outputs": [
    {
     "name": "stdout",
     "output_type": "stream",
     "text": [
      "Predicted Life Expectancy: [94.75306148]\n"
     ]
    }
   ],
   "source": [
    "x = np.array([[2043, 27.183, 6858809, 370000000]])\n",
    "prediction = model.predict(x)\n",
    "\n",
    "print(\"Predicted Life Expectancy:\", prediction)\n"
   ]
  },
  {
   "attachments": {},
   "cell_type": "markdown",
   "metadata": {},
   "source": [
    "# comparatives\n",
    "https://www.ons.gov.uk/peoplepopulationandcommunity/birthsdeathsandmarriages/lifeexpectancies/bulletins/pastandprojecteddatafromtheperiodandcohortlifetables/1981to2068 - avg: 93\n",
    "\n",
    "https://www.ncbi.nlm.nih.gov/pmc/articles/PMC2888016/ avg: 88"
   ]
  }
 ],
 "metadata": {
  "kernelspec": {
   "display_name": "base",
   "language": "python",
   "name": "python3"
  },
  "language_info": {
   "codemirror_mode": {
    "name": "ipython",
    "version": 3
   },
   "file_extension": ".py",
   "mimetype": "text/x-python",
   "name": "python",
   "nbconvert_exporter": "python",
   "pygments_lexer": "ipython3",
   "version": "3.9.7"
  },
  "orig_nbformat": 4
 },
 "nbformat": 4,
 "nbformat_minor": 2
}

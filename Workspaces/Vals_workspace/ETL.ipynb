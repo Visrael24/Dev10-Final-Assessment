{
 "cells": [
  {
   "cell_type": "code",
   "execution_count": null,
   "metadata": {},
   "outputs": [],
   "source": [
    "import pandas as pd\n",
    "import matplotlib.pyplot as plt\n",
    "pd.set_option('display.max_columns', None)"
   ]
  },
  {
   "attachments": {},
   "cell_type": "markdown",
   "metadata": {},
   "source": [
    "# Grabbing all csvs and storing them in dataframes"
   ]
  },
  {
   "cell_type": "code",
   "execution_count": null,
   "metadata": {},
   "outputs": [],
   "source": [
    "consumption = pd.read_csv('../../Data/Fish/fish-and-seafood-consumption-per-capita.csv')\n",
    "production = pd.read_csv('../../Data/Fish/fish-seafood-production.csv')\n",
    "population = pd.read_csv('../../Data/Fish/population.csv')\n",
    "life_expect = pd.read_csv('../../Data/to_merge/life_expectancy.csv')\n",
    "c_n_c = pd.read_csv('../../Data/to_merge/country_and_continents.csv')"
   ]
  },
  {
   "attachments": {},
   "cell_type": "markdown",
   "metadata": {},
   "source": [
    "# Doing some renaming for the merges\n",
    "Production and consumption had overly-long names, cleaning those up. Also adjust the population df to contain only relevent years."
   ]
  },
  {
   "cell_type": "code",
   "execution_count": null,
   "metadata": {},
   "outputs": [],
   "source": [
    "production = production.rename(columns={'Fish and seafood | 00002960 || Production | 005511 || tonnes': 'Production_in_tons'})"
   ]
  },
  {
   "cell_type": "code",
   "execution_count": null,
   "metadata": {},
   "outputs": [],
   "source": [
    "consumption = consumption.rename(columns={'Fish and seafood | 00002960 || Food available for consumption | 0645pc || kilograms per year per capita': 'kg_per_yr_per_capita'})"
   ]
  },
  {
   "cell_type": "code",
   "execution_count": null,
   "metadata": {},
   "outputs": [],
   "source": [
    "population = population[population['Year'] > 1960].reset_index(drop=True)"
   ]
  },
  {
   "attachments": {},
   "cell_type": "markdown",
   "metadata": {},
   "source": [
    "# Beginning to merge\n",
    "Adding one df at a time and ensuring that the integrity of the data remains consistant\n",
    "\n",
    "in the case of life_expect, i had to pivot the table and give it a variable column name 'Year', then i had to convert the numerical values into workable datatye I.E int, float.\n",
    "then I merged it with merged_df and dropped the redundant names."
   ]
  },
  {
   "cell_type": "code",
   "execution_count": null,
   "metadata": {},
   "outputs": [],
   "source": [
    "columns_to_merge = ['Year', 'Code', 'Production_in_tons']\n",
    "merged_df = consumption.merge(production[columns_to_merge], on=['Year', 'Code'])"
   ]
  },
  {
   "cell_type": "code",
   "execution_count": null,
   "metadata": {},
   "outputs": [],
   "source": [
    "columns_to_merge = ['Code', 'Year','Population (historical estimates)', 'Entity']\n",
    "merged_df = merged_df.merge(population[columns_to_merge], on=['Code', 'Year', 'Entity'])"
   ]
  },
  {
   "cell_type": "code",
   "execution_count": null,
   "metadata": {},
   "outputs": [],
   "source": [
    "to_drop = ['Country Name', 'Country Code'] # redundant columns\n",
    "\n",
    "melted_life_expect = life_expect.melt(id_vars=['Country Name', 'Country Code'], var_name='Year', value_name='Value')\n",
    "melted_life_expect['Year'] = melted_life_expect['Year'].astype(int)\n",
    "melted_life_expect['Value'] = melted_life_expect['Value'].astype(float)\n",
    "merged_df = merged_df.merge(melted_life_expect, left_on=['Entity', 'Code', 'Year'], right_on=['Country Name', 'Country Code', 'Year'], how='left')\n",
    "merged_df.drop(to_drop, inplace=True, axis=1)\n",
    "merged_df = merged_df.rename(columns={'Value': 'Life_Expectancy_years'})"
   ]
  },
  {
   "cell_type": "code",
   "execution_count": null,
   "metadata": {},
   "outputs": [],
   "source": [
    "c_n_c = c_n_c[['country _or_area', 'continent']]\n",
    "c_n_c.rename(columns={'country _or_area': 'Entity'}, inplace=True)\n",
    "merged_df = merged_df.merge(c_n_c, on=['Entity'])"
   ]
  },
  {
   "attachments": {},
   "cell_type": "markdown",
   "metadata": {},
   "source": [
    "# In depth analysis and cleaning"
   ]
  },
  {
   "cell_type": "code",
   "execution_count": 231,
   "metadata": {},
   "outputs": [
    {
     "data": {
      "text/html": [
       "<div>\n",
       "<style scoped>\n",
       "    .dataframe tbody tr th:only-of-type {\n",
       "        vertical-align: middle;\n",
       "    }\n",
       "\n",
       "    .dataframe tbody tr th {\n",
       "        vertical-align: top;\n",
       "    }\n",
       "\n",
       "    .dataframe thead th {\n",
       "        text-align: right;\n",
       "    }\n",
       "</style>\n",
       "<table border=\"1\" class=\"dataframe\">\n",
       "  <thead>\n",
       "    <tr style=\"text-align: right;\">\n",
       "      <th></th>\n",
       "      <th>Entity</th>\n",
       "      <th>Code</th>\n",
       "      <th>Year</th>\n",
       "      <th>kg_per_yr_per_capita</th>\n",
       "      <th>Production_in_tons</th>\n",
       "      <th>Population (historical estimates)</th>\n",
       "      <th>Life_Expectancy_years</th>\n",
       "      <th>continent</th>\n",
       "    </tr>\n",
       "  </thead>\n",
       "  <tbody>\n",
       "    <tr>\n",
       "      <th>0</th>\n",
       "      <td>Afghanistan</td>\n",
       "      <td>AFG</td>\n",
       "      <td>1961</td>\n",
       "      <td>0.030559</td>\n",
       "      <td>300.0</td>\n",
       "      <td>8790140</td>\n",
       "      <td>32.96</td>\n",
       "      <td>Asia</td>\n",
       "    </tr>\n",
       "    <tr>\n",
       "      <th>1</th>\n",
       "      <td>Afghanistan</td>\n",
       "      <td>AFG</td>\n",
       "      <td>1962</td>\n",
       "      <td>0.030578</td>\n",
       "      <td>300.0</td>\n",
       "      <td>8969055</td>\n",
       "      <td>33.47</td>\n",
       "      <td>Asia</td>\n",
       "    </tr>\n",
       "    <tr>\n",
       "      <th>2</th>\n",
       "      <td>Afghanistan</td>\n",
       "      <td>AFG</td>\n",
       "      <td>1963</td>\n",
       "      <td>0.030598</td>\n",
       "      <td>300.0</td>\n",
       "      <td>9157463</td>\n",
       "      <td>33.97</td>\n",
       "      <td>Asia</td>\n",
       "    </tr>\n",
       "    <tr>\n",
       "      <th>3</th>\n",
       "      <td>Afghanistan</td>\n",
       "      <td>AFG</td>\n",
       "      <td>1964</td>\n",
       "      <td>0.030614</td>\n",
       "      <td>300.0</td>\n",
       "      <td>9355510</td>\n",
       "      <td>34.46</td>\n",
       "      <td>Asia</td>\n",
       "    </tr>\n",
       "    <tr>\n",
       "      <th>4</th>\n",
       "      <td>Afghanistan</td>\n",
       "      <td>AFG</td>\n",
       "      <td>1965</td>\n",
       "      <td>0.030627</td>\n",
       "      <td>300.0</td>\n",
       "      <td>9565154</td>\n",
       "      <td>34.95</td>\n",
       "      <td>Asia</td>\n",
       "    </tr>\n",
       "    <tr>\n",
       "      <th>...</th>\n",
       "      <td>...</td>\n",
       "      <td>...</td>\n",
       "      <td>...</td>\n",
       "      <td>...</td>\n",
       "      <td>...</td>\n",
       "      <td>...</td>\n",
       "      <td>...</td>\n",
       "      <td>...</td>\n",
       "    </tr>\n",
       "    <tr>\n",
       "      <th>9305</th>\n",
       "      <td>Zimbabwe</td>\n",
       "      <td>ZWE</td>\n",
       "      <td>2016</td>\n",
       "      <td>3.679239</td>\n",
       "      <td>25800.0</td>\n",
       "      <td>14452705</td>\n",
       "      <td>60.29</td>\n",
       "      <td>Africa</td>\n",
       "    </tr>\n",
       "    <tr>\n",
       "      <th>9306</th>\n",
       "      <td>Zimbabwe</td>\n",
       "      <td>ZWE</td>\n",
       "      <td>2017</td>\n",
       "      <td>3.397224</td>\n",
       "      <td>26800.0</td>\n",
       "      <td>14751101</td>\n",
       "      <td>60.81</td>\n",
       "      <td>Africa</td>\n",
       "    </tr>\n",
       "    <tr>\n",
       "      <th>9307</th>\n",
       "      <td>Zimbabwe</td>\n",
       "      <td>ZWE</td>\n",
       "      <td>2018</td>\n",
       "      <td>3.117559</td>\n",
       "      <td>32300.0</td>\n",
       "      <td>15052191</td>\n",
       "      <td>61.20</td>\n",
       "      <td>Africa</td>\n",
       "    </tr>\n",
       "    <tr>\n",
       "      <th>9308</th>\n",
       "      <td>Zimbabwe</td>\n",
       "      <td>ZWE</td>\n",
       "      <td>2019</td>\n",
       "      <td>2.870986</td>\n",
       "      <td>29230.0</td>\n",
       "      <td>15354606</td>\n",
       "      <td>61.49</td>\n",
       "      <td>Africa</td>\n",
       "    </tr>\n",
       "    <tr>\n",
       "      <th>9309</th>\n",
       "      <td>Zimbabwe</td>\n",
       "      <td>ZWE</td>\n",
       "      <td>2020</td>\n",
       "      <td>2.817092</td>\n",
       "      <td>29230.0</td>\n",
       "      <td>15669663</td>\n",
       "      <td>61.74</td>\n",
       "      <td>Africa</td>\n",
       "    </tr>\n",
       "  </tbody>\n",
       "</table>\n",
       "<p>9310 rows × 8 columns</p>\n",
       "</div>"
      ],
      "text/plain": [
       "           Entity Code  Year  kg_per_yr_per_capita  Production_in_tons  \\\n",
       "0     Afghanistan  AFG  1961              0.030559               300.0   \n",
       "1     Afghanistan  AFG  1962              0.030578               300.0   \n",
       "2     Afghanistan  AFG  1963              0.030598               300.0   \n",
       "3     Afghanistan  AFG  1964              0.030614               300.0   \n",
       "4     Afghanistan  AFG  1965              0.030627               300.0   \n",
       "...           ...  ...   ...                   ...                 ...   \n",
       "9305     Zimbabwe  ZWE  2016              3.679239             25800.0   \n",
       "9306     Zimbabwe  ZWE  2017              3.397224             26800.0   \n",
       "9307     Zimbabwe  ZWE  2018              3.117559             32300.0   \n",
       "9308     Zimbabwe  ZWE  2019              2.870986             29230.0   \n",
       "9309     Zimbabwe  ZWE  2020              2.817092             29230.0   \n",
       "\n",
       "      Population (historical estimates)  Life_Expectancy_years continent  \n",
       "0                               8790140                  32.96      Asia  \n",
       "1                               8969055                  33.47      Asia  \n",
       "2                               9157463                  33.97      Asia  \n",
       "3                               9355510                  34.46      Asia  \n",
       "4                               9565154                  34.95      Asia  \n",
       "...                                 ...                    ...       ...  \n",
       "9305                           14452705                  60.29    Africa  \n",
       "9306                           14751101                  60.81    Africa  \n",
       "9307                           15052191                  61.20    Africa  \n",
       "9308                           15354606                  61.49    Africa  \n",
       "9309                           15669663                  61.74    Africa  \n",
       "\n",
       "[9310 rows x 8 columns]"
      ]
     },
     "execution_count": 231,
     "metadata": {},
     "output_type": "execute_result"
    }
   ],
   "source": [
    "merged_df"
   ]
  },
  {
   "cell_type": "code",
   "execution_count": null,
   "metadata": {},
   "outputs": [],
   "source": [
    "us_df = merged_df[merged_df['Code'] == 'USA'].reset_index(drop=True)"
   ]
  },
  {
   "cell_type": "code",
   "execution_count": null,
   "metadata": {},
   "outputs": [],
   "source": [
    "us_df"
   ]
  },
  {
   "attachments": {},
   "cell_type": "markdown",
   "metadata": {},
   "source": [
    "# Writing new df to final CSV"
   ]
  },
  {
   "cell_type": "code",
   "execution_count": 233,
   "metadata": {},
   "outputs": [],
   "source": [
    "merged_df.to_csv('../../Data/final_csv_all_data.csv', index=False)"
   ]
  }
 ],
 "metadata": {
  "kernelspec": {
   "display_name": "base",
   "language": "python",
   "name": "python3"
  },
  "language_info": {
   "codemirror_mode": {
    "name": "ipython",
    "version": 3
   },
   "file_extension": ".py",
   "mimetype": "text/x-python",
   "name": "python",
   "nbconvert_exporter": "python",
   "pygments_lexer": "ipython3",
   "version": "3.9.7"
  },
  "orig_nbformat": 4
 },
 "nbformat": 4,
 "nbformat_minor": 2
}

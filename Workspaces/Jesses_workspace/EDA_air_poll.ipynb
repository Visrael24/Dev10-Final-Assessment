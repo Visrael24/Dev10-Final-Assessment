{
 "cells": [
  {
   "cell_type": "code",
   "execution_count": 1,
   "metadata": {},
   "outputs": [],
   "source": [
    "import pandas as pd\n",
    "import matplotlib.pyplot as plt"
   ]
  },
  {
   "cell_type": "code",
   "execution_count": null,
   "metadata": {},
   "outputs": [],
   "source": [
    "air_pollution = pd.read_csv(\"pollution_06_21\")"
   ]
  },
  {
   "cell_type": "code",
   "execution_count": null,
   "metadata": {},
   "outputs": [],
   "source": [
    "# if not already datetime\n",
    "# air_pollution['Date'] = pd.to_datetime(air_pollution['Date'])"
   ]
  },
  {
   "cell_type": "code",
   "execution_count": null,
   "metadata": {},
   "outputs": [],
   "source": [
    "air_pollution.plot(kind='scatter', x='Longitude', y='Latitude', s=air_pollution['AQI']/20, label='AQI', c='AQI', cmap=plt.get_cmap(\"jet\"), colorbar=True, alpha=0.3, figsize=(12,7));"
   ]
  },
  {
   "cell_type": "code",
   "execution_count": null,
   "metadata": {},
   "outputs": [],
   "source": [
    "air_pollution.sort_values(by='AQI', ascending=False).head(20)"
   ]
  },
  {
   "cell_type": "code",
   "execution_count": null,
   "metadata": {},
   "outputs": [],
   "source": [
    "air_pollution[air_pollution['AQI'].between(250, 900)].head(20)"
   ]
  },
  {
   "cell_type": "code",
   "execution_count": null,
   "metadata": {},
   "outputs": [],
   "source": [
    "air_pollution.plot(kind='scatter', x='Longitude', y='Latitude', s=air_pollution['Quality_level']*10, label='Average County Air Quality', c='Quality_level', cmap=plt.get_cmap(\"jet\"), colorbar=True, alpha=0.3, figsize=(12,7));"
   ]
  },
  {
   "cell_type": "code",
   "execution_count": null,
   "metadata": {},
   "outputs": [],
   "source": [
    "air_q_06 = air_pollution.loc[air_pollution['Date'] <= '2006-12-31']\n",
    "air_q_13 = air_pollution.loc[(air_pollution['Date'] <= '2013-12-31') & (air_pollution['Date'] >= '2013-01-01')]\n",
    "air_q_20 = air_pollution.loc[(air_pollution['Date'] <= '2020-12-31') & (air_pollution['Date'] >= '2020-01-01')]"
   ]
  }
 ],
 "metadata": {
  "kernelspec": {
   "display_name": "base",
   "language": "python",
   "name": "python3"
  },
  "language_info": {
   "codemirror_mode": {
    "name": "ipython",
    "version": 3
   },
   "file_extension": ".py",
   "mimetype": "text/x-python",
   "name": "python",
   "nbconvert_exporter": "python",
   "pygments_lexer": "ipython3",
   "version": "3.9.13"
  },
  "orig_nbformat": 4
 },
 "nbformat": 4,
 "nbformat_minor": 2
}

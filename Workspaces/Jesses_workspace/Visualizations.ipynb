{
 "cells": [
  {
   "cell_type": "code",
   "execution_count": 2,
   "metadata": {},
   "outputs": [],
   "source": [
    "import pandas as pd\n",
    "import matplotlib.pyplot as plt"
   ]
  },
  {
   "attachments": {},
   "cell_type": "markdown",
   "metadata": {},
   "source": [
    "## Importing Data"
   ]
  },
  {
   "cell_type": "code",
   "execution_count": 3,
   "metadata": {},
   "outputs": [
    {
     "data": {
      "text/html": [
       "<div>\n",
       "<style scoped>\n",
       "    .dataframe tbody tr th:only-of-type {\n",
       "        vertical-align: middle;\n",
       "    }\n",
       "\n",
       "    .dataframe tbody tr th {\n",
       "        vertical-align: top;\n",
       "    }\n",
       "\n",
       "    .dataframe thead th {\n",
       "        text-align: right;\n",
       "    }\n",
       "</style>\n",
       "<table border=\"1\" class=\"dataframe\">\n",
       "  <thead>\n",
       "    <tr style=\"text-align: right;\">\n",
       "      <th></th>\n",
       "      <th>Entity</th>\n",
       "      <th>Code</th>\n",
       "      <th>Year</th>\n",
       "      <th>kg_per_yr_per_capita</th>\n",
       "      <th>Production_in_tons</th>\n",
       "      <th>Population (historical estimates)</th>\n",
       "      <th>Life_Expectancy_years</th>\n",
       "      <th>continent</th>\n",
       "    </tr>\n",
       "  </thead>\n",
       "  <tbody>\n",
       "    <tr>\n",
       "      <th>0</th>\n",
       "      <td>Afghanistan</td>\n",
       "      <td>AFG</td>\n",
       "      <td>1961</td>\n",
       "      <td>0.030559</td>\n",
       "      <td>300.0</td>\n",
       "      <td>8790140</td>\n",
       "      <td>32.96</td>\n",
       "      <td>Asia</td>\n",
       "    </tr>\n",
       "    <tr>\n",
       "      <th>1</th>\n",
       "      <td>Afghanistan</td>\n",
       "      <td>AFG</td>\n",
       "      <td>1962</td>\n",
       "      <td>0.030578</td>\n",
       "      <td>300.0</td>\n",
       "      <td>8969055</td>\n",
       "      <td>33.47</td>\n",
       "      <td>Asia</td>\n",
       "    </tr>\n",
       "    <tr>\n",
       "      <th>2</th>\n",
       "      <td>Afghanistan</td>\n",
       "      <td>AFG</td>\n",
       "      <td>1963</td>\n",
       "      <td>0.030598</td>\n",
       "      <td>300.0</td>\n",
       "      <td>9157463</td>\n",
       "      <td>33.97</td>\n",
       "      <td>Asia</td>\n",
       "    </tr>\n",
       "    <tr>\n",
       "      <th>3</th>\n",
       "      <td>Afghanistan</td>\n",
       "      <td>AFG</td>\n",
       "      <td>1964</td>\n",
       "      <td>0.030614</td>\n",
       "      <td>300.0</td>\n",
       "      <td>9355510</td>\n",
       "      <td>34.46</td>\n",
       "      <td>Asia</td>\n",
       "    </tr>\n",
       "    <tr>\n",
       "      <th>4</th>\n",
       "      <td>Afghanistan</td>\n",
       "      <td>AFG</td>\n",
       "      <td>1965</td>\n",
       "      <td>0.030627</td>\n",
       "      <td>300.0</td>\n",
       "      <td>9565154</td>\n",
       "      <td>34.95</td>\n",
       "      <td>Asia</td>\n",
       "    </tr>\n",
       "  </tbody>\n",
       "</table>\n",
       "</div>"
      ],
      "text/plain": [
       "        Entity Code  Year  kg_per_yr_per_capita  Production_in_tons  \\\n",
       "0  Afghanistan  AFG  1961              0.030559               300.0   \n",
       "1  Afghanistan  AFG  1962              0.030578               300.0   \n",
       "2  Afghanistan  AFG  1963              0.030598               300.0   \n",
       "3  Afghanistan  AFG  1964              0.030614               300.0   \n",
       "4  Afghanistan  AFG  1965              0.030627               300.0   \n",
       "\n",
       "   Population (historical estimates)  Life_Expectancy_years continent  \n",
       "0                            8790140                  32.96      Asia  \n",
       "1                            8969055                  33.47      Asia  \n",
       "2                            9157463                  33.97      Asia  \n",
       "3                            9355510                  34.46      Asia  \n",
       "4                            9565154                  34.95      Asia  "
      ]
     },
     "execution_count": 3,
     "metadata": {},
     "output_type": "execute_result"
    }
   ],
   "source": [
    "final_df = pd.read_csv('../../Data/final_csv_all_data.csv')\n",
    "final_df.head()"
   ]
  },
  {
   "cell_type": "code",
   "execution_count": 4,
   "metadata": {},
   "outputs": [],
   "source": [
    "protein_all = pd.read_csv('Data/all_protein_consumption_sources.csv')\n",
    "protein_animal = pd.read_csv('Data/animal_protein_consumption.csv')\n",
    "\n",
    "coastal_pop = pd.read_csv('Data/pop_within_10km_coast.csv')"
   ]
  },
  {
   "cell_type": "code",
   "execution_count": 5,
   "metadata": {},
   "outputs": [
    {
     "name": "stderr",
     "output_type": "stream",
     "text": [
      "C:\\Users\\JesseNoss\\AppData\\Local\\Temp\\ipykernel_23852\\2566839820.py:7: FutureWarning: The default value of regex will change from True to False in a future version.\n",
      "  coast['Year'] = coast['Year'].str.replace('\\D+', '')\n"
     ]
    },
    {
     "data": {
      "text/html": [
       "<div>\n",
       "<style scoped>\n",
       "    .dataframe tbody tr th:only-of-type {\n",
       "        vertical-align: middle;\n",
       "    }\n",
       "\n",
       "    .dataframe tbody tr th {\n",
       "        vertical-align: top;\n",
       "    }\n",
       "\n",
       "    .dataframe thead th {\n",
       "        text-align: right;\n",
       "    }\n",
       "</style>\n",
       "<table border=\"1\" class=\"dataframe\">\n",
       "  <thead>\n",
       "    <tr style=\"text-align: right;\">\n",
       "      <th></th>\n",
       "      <th>Code</th>\n",
       "      <th>Entity</th>\n",
       "      <th>Year</th>\n",
       "      <th>percent_pop_10km_from_coast</th>\n",
       "    </tr>\n",
       "  </thead>\n",
       "  <tbody>\n",
       "    <tr>\n",
       "      <th>0</th>\n",
       "      <td>ABW</td>\n",
       "      <td>Aruba</td>\n",
       "      <td>1990</td>\n",
       "      <td>100.0</td>\n",
       "    </tr>\n",
       "    <tr>\n",
       "      <th>1</th>\n",
       "      <td>AFG</td>\n",
       "      <td>Afghanistan</td>\n",
       "      <td>1990</td>\n",
       "      <td>0.0</td>\n",
       "    </tr>\n",
       "    <tr>\n",
       "      <th>2</th>\n",
       "      <td>AGO</td>\n",
       "      <td>Angola</td>\n",
       "      <td>1990</td>\n",
       "      <td>17.0</td>\n",
       "    </tr>\n",
       "    <tr>\n",
       "      <th>3</th>\n",
       "      <td>AIA</td>\n",
       "      <td>Anguilla</td>\n",
       "      <td>1990</td>\n",
       "      <td>100.0</td>\n",
       "    </tr>\n",
       "    <tr>\n",
       "      <th>4</th>\n",
       "      <td>ALB</td>\n",
       "      <td>Albania</td>\n",
       "      <td>1990</td>\n",
       "      <td>17.0</td>\n",
       "    </tr>\n",
       "  </tbody>\n",
       "</table>\n",
       "</div>"
      ],
      "text/plain": [
       "  Code       Entity  Year  percent_pop_10km_from_coast\n",
       "0  ABW        Aruba  1990                        100.0\n",
       "1  AFG  Afghanistan  1990                          0.0\n",
       "2  AGO       Angola  1990                         17.0\n",
       "3  AIA     Anguilla  1990                        100.0\n",
       "4  ALB      Albania  1990                         17.0"
      ]
     },
     "execution_count": 5,
     "metadata": {},
     "output_type": "execute_result"
    }
   ],
   "source": [
    "coast = coastal_pop.melt(id_vars=['Code', 'Entity'], var_name='Year', value_name='Value')\n",
    "coast['Value'] = coast['Value'].astype(float)\n",
    "\n",
    "coast[coast['Code']=='ABW']\n",
    "\n",
    "\n",
    "coast['Year'] = coast['Year'].str.replace('\\D+', '')\n",
    "coast['Year'] = coast['Year'].astype(int)\n",
    "coast = coast.rename(columns={'Value': 'percent_pop_10km_from_coast'})\n",
    "coast.head()"
   ]
  },
  {
   "cell_type": "code",
   "execution_count": 6,
   "metadata": {},
   "outputs": [],
   "source": [
    "col_to_merge = ['Entity', 'Code', 'Year', 'fish_and_seafood_kg_protein_per_capita', 'percent_fish_total_protein_per_capita']\n",
    "compiled_df = final_df.merge(protein_all[col_to_merge], on=['Entity', 'Code', 'Year'])\n",
    "\n",
    "col_to_merge = ['Entity', 'Code', 'Year', 'percent_fish_protein_all_animal']\n",
    "compiled_df = compiled_df.merge(protein_animal[col_to_merge], on=['Entity', 'Code', 'Year'])\n",
    "\n",
    "col_to_merge = ['Entity', 'Code', 'Year', 'percent_pop_10km_from_coast']\n",
    "new_compile = compiled_df.merge(coast[col_to_merge], on=['Code', 'Entity', 'Year'])\n"
   ]
  },
  {
   "attachments": {},
   "cell_type": "markdown",
   "metadata": {},
   "source": [
    "## Visualizations"
   ]
  },
  {
   "cell_type": "code",
   "execution_count": 7,
   "metadata": {},
   "outputs": [],
   "source": [
    "new_compile = new_compile.rename(columns={'percent_fish_total_protein_per_capita': 'perc. total protein from fish', 'percent_fish_protein_all_animal': 'perc. animal protein from fish'})\n",
    "# new_compile.head()"
   ]
  },
  {
   "cell_type": "code",
   "execution_count": 8,
   "metadata": {},
   "outputs": [],
   "source": [
    "year = int(input('Select what year you want to explore: '))\n",
    "year_select = new_compile.loc[new_compile['Year']==year]"
   ]
  },
  {
   "cell_type": "code",
   "execution_count": 9,
   "metadata": {},
   "outputs": [],
   "source": [
    "# year_select"
   ]
  },
  {
   "cell_type": "code",
   "execution_count": 11,
   "metadata": {},
   "outputs": [
    {
     "data": {
      "text/plain": [
       "<AxesSubplot:ylabel='Entity'>"
      ]
     },
     "execution_count": 11,
     "metadata": {},
     "output_type": "execute_result"
    },
    {
     "data": {
      "image/png": "[encoded data removed]",
      "text/plain": [
       "<Figure size 640x480 with 2 Axes>"
      ]
     },
     "metadata": {},
     "output_type": "display_data"
    }
   ],
   "source": [
    "import seaborn as sns\n",
    "\n",
    "first = int(input('Select first number for display range: '))\n",
    "subset_test = year_select[['Entity', 'perc. total protein from fish', 'perc. animal protein from fish']].set_index('Entity')[first: (first+4)]\n",
    "\n",
    "sns.heatmap(subset_test, annot=True, cmap='RdYlGn', linewidths=0.5)"
   ]
  },
  {
   "cell_type": "code",
   "execution_count": 16,
   "metadata": {},
   "outputs": [
    {
     "data": {
      "text/plain": [
       "'Barbados'"
      ]
     },
     "execution_count": 16,
     "metadata": {},
     "output_type": "execute_result"
    }
   ],
   "source": [
    "countries = list(year_select['Entity'])\n",
    "countries[12]"
   ]
  },
  {
   "cell_type": "code",
   "execution_count": 17,
   "metadata": {},
   "outputs": [],
   "source": [
    "import random\n",
    "\n",
    "def country_selections(text):\n",
    "    \n",
    "    if text == 1:\n",
    "        first = 0\n",
    "        subset_test = year_select[['Entity', 'perc. total protein from fish', 'perc. animal protein from fish']].set_index('Entity')[first: (first+4)]\n",
    "        the_map = sns.heatmap(subset_test, annot=True, cmap='RdYlGn', linewidths=0.5)\n",
    "    elif text == 2:\n",
    "        first = -5\n",
    "        subset_test = year_select[['Entity', 'perc. total protein from fish', 'perc. animal protein from fish']].set_index('Entity')[first: (first+4)]\n",
    "        the_map = sns.heatmap(subset_test, annot=True, cmap='RdYlGn', linewidths=0.5)\n",
    "    elif text == 3:\n",
    "        selecting_countries = True\n",
    "        selection = []\n",
    "        i=0\n",
    "        while selecting_countries:\n",
    "            country = input('Country {i}: ')\n",
    "            if country in countries:\n",
    "                selection.append(country)\n",
    "                i += 1\n",
    "            elif country == '-':\n",
    "                selection.append(countries[random.randint(0, len(countries))])\n",
    "                i += 1\n",
    "            else:\n",
    "                print('Please select a valid country! It is either spelled wrong or not in our database.')\n",
    "\n",
    "            if i >= 4:\n",
    "                selecting_countries = False\n",
    "\n",
    "        subset_ = year_select[['Entity', 'perc. total protein from fish', 'perc. animal protein from fish']]\n",
    "        subset_test = subset_.loc[subset_['Entity'].isin(selection)].set_index('Entity')\n",
    "        the_map = sns.heatmap(subset_test, annot=True, cmap='RdYlGn', linewidths=0.5)\n",
    "    else:\n",
    "        print('Error!')\n",
    "        print('Please input a number from 1 to 3')\n",
    "    return the_map"
   ]
  },
  {
   "cell_type": "code",
   "execution_count": 20,
   "metadata": {},
   "outputs": [
    {
     "data": {
      "text/plain": [
       "<AxesSubplot:ylabel='Entity'>"
      ]
     },
     "execution_count": 20,
     "metadata": {},
     "output_type": "execute_result"
    },
    {
     "data": {
      "image/png": "[encoded data removed]",
      "text/plain": [
       "<Figure size 640x480 with 2 Axes>"
      ]
     },
     "metadata": {},
     "output_type": "display_data"
    }
   ],
   "source": [
    "country_selections(int(input('Would you like to view the (1) first 4 countries, (2) last 4 countries, or (3) select 4 to compare? Input 1, 2, or 3: ')))\n"
   ]
  },
  {
   "cell_type": "code",
   "execution_count": 71,
   "metadata": {},
   "outputs": [
    {
     "data": {
      "text/html": [
       "<style type=\"text/css\">\n",
       "#T_40114_row0_col0, #T_40114_row0_col1 {\n",
       "  background-color: #00441b;\n",
       "  color: #f1f1f1;\n",
       "}\n",
       "#T_40114_row1_col0 {\n",
       "  background-color: #b5e1ae;\n",
       "  color: #000000;\n",
       "}\n",
       "#T_40114_row1_col1 {\n",
       "  background-color: #c4e8bd;\n",
       "  color: #000000;\n",
       "}\n",
       "#T_40114_row2_col0, #T_40114_row2_col1 {\n",
       "  background-color: #f7fcf5;\n",
       "  color: #000000;\n",
       "}\n",
       "#T_40114_row3_col0 {\n",
       "  background-color: #a4da9e;\n",
       "  color: #000000;\n",
       "}\n",
       "#T_40114_row3_col1 {\n",
       "  background-color: #e9f7e5;\n",
       "  color: #000000;\n",
       "}\n",
       "</style>\n",
       "<table id=\"T_40114\">\n",
       "  <thead>\n",
       "    <tr>\n",
       "      <th class=\"blank level0\" >&nbsp;</th>\n",
       "      <th id=\"T_40114_level0_col0\" class=\"col_heading level0 col0\" >perc. total protein from fish</th>\n",
       "      <th id=\"T_40114_level0_col1\" class=\"col_heading level0 col1\" >perc. animal protein from fish</th>\n",
       "    </tr>\n",
       "    <tr>\n",
       "      <th class=\"index_name level0\" >Entity</th>\n",
       "      <th class=\"blank col0\" >&nbsp;</th>\n",
       "      <th class=\"blank col1\" >&nbsp;</th>\n",
       "    </tr>\n",
       "  </thead>\n",
       "  <tbody>\n",
       "    <tr>\n",
       "      <th id=\"T_40114_level0_row0\" class=\"row_heading level0 row0\" >Myanmar</th>\n",
       "      <td id=\"T_40114_row0_col0\" class=\"data row0 col0\" >17.582680</td>\n",
       "      <td id=\"T_40114_row0_col1\" class=\"data row0 col1\" >45.267995</td>\n",
       "    </tr>\n",
       "    <tr>\n",
       "      <th id=\"T_40114_level0_row1\" class=\"row_heading level0 row1\" >Namibia</th>\n",
       "      <td id=\"T_40114_row1_col0\" class=\"data row1 col0\" >6.130721</td>\n",
       "      <td id=\"T_40114_row1_col1\" class=\"data row1 col1\" >16.735824</td>\n",
       "    </tr>\n",
       "    <tr>\n",
       "      <th id=\"T_40114_level0_row2\" class=\"row_heading level0 row2\" >Nepal</th>\n",
       "      <td id=\"T_40114_row2_col0\" class=\"data row2 col0\" >0.957396</td>\n",
       "      <td id=\"T_40114_row2_col1\" class=\"data row2 col1\" >6.659268</td>\n",
       "    </tr>\n",
       "    <tr>\n",
       "      <th id=\"T_40114_level0_row3\" class=\"row_heading level0 row3\" >Netherlands</th>\n",
       "      <td id=\"T_40114_row3_col0\" class=\"data row3 col0\" >7.008086</td>\n",
       "      <td id=\"T_40114_row3_col1\" class=\"data row3 col1\" >10.494085</td>\n",
       "    </tr>\n",
       "  </tbody>\n",
       "</table>\n"
      ],
      "text/plain": [
       "<pandas.io.formats.style.Styler at 0x294c4f45700>"
      ]
     },
     "execution_count": 71,
     "metadata": {},
     "output_type": "execute_result"
    }
   ],
   "source": [
    "subset_test.style.background_gradient(cmap='Greens')"
   ]
  }
 ],
 "metadata": {
  "kernelspec": {
   "display_name": "base",
   "language": "python",
   "name": "python3"
  },
  "language_info": {
   "codemirror_mode": {
    "name": "ipython",
    "version": 3
   },
   "file_extension": ".py",
   "mimetype": "text/x-python",
   "name": "python",
   "nbconvert_exporter": "python",
   "pygments_lexer": "ipython3",
   "version": "3.9.13"
  },
  "orig_nbformat": 4
 },
 "nbformat": 4,
 "nbformat_minor": 2
}

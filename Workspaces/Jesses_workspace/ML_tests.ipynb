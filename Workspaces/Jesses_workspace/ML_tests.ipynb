{
 "cells": [
  {
   "cell_type": "code",
   "execution_count": 1,
   "metadata": {},
   "outputs": [],
   "source": [
    "import pandas as pd\n",
    "import matplotlib.pyplot as plt"
   ]
  },
  {
   "attachments": {},
   "cell_type": "markdown",
   "metadata": {},
   "source": [
    "## Importing Data"
   ]
  },
  {
   "cell_type": "code",
   "execution_count": null,
   "metadata": {},
   "outputs": [],
   "source": [
    "final_df = pd.read_csv('../../Data/final_csv_all_data.csv')\n",
    "final_df.head()"
   ]
  },
  {
   "cell_type": "code",
   "execution_count": null,
   "metadata": {},
   "outputs": [],
   "source": [
    "protein_all = pd.read_csv('Data/all_protein_consumption_sources.csv')\n",
    "protein_animal = pd.read_csv('Data/animal_protein_consumption.csv')\n",
    "\n",
    "coastal_pop = pd.read_csv('Data/pop_within_10km_coast.csv')"
   ]
  },
  {
   "cell_type": "code",
   "execution_count": null,
   "metadata": {},
   "outputs": [],
   "source": [
    "coast = coastal_pop.melt(id_vars=['Code', 'Entity'], var_name='Year', value_name='Value')\n",
    "coast['Value'] = coast['Value'].astype(float)\n",
    "\n",
    "coast[coast['Code']=='ABW']\n",
    "\n",
    "\n",
    "coast['Year'] = coast['Year'].str.replace('\\D+', '')\n",
    "coast['Year'] = coast['Year'].astype(int)\n",
    "coast = coast.rename(columns={'Value': 'percent_pop_10km_from_coast'})\n",
    "coast.head()"
   ]
  },
  {
   "cell_type": "code",
   "execution_count": null,
   "metadata": {},
   "outputs": [],
   "source": [
    "col_to_merge = ['Entity', 'Code', 'Year', 'fish_and_seafood_kg_protein_per_capita', 'percent_fish_total_protein_per_capita']\n",
    "compiled_df = final_df.merge(protein_all[col_to_merge], on=['Entity', 'Code', 'Year'])\n",
    "\n",
    "col_to_merge = ['Entity', 'Code', 'Year', 'percent_fish_protein_all_animal']\n",
    "compiled_df = compiled_df.merge(protein_animal[col_to_merge], on=['Entity', 'Code', 'Year'])\n",
    "\n",
    "col_to_merge = ['Entity', 'Code', 'Year', 'percent_pop_10km_from_coast']\n",
    "new_compile = compiled_df.merge(coast[col_to_merge], on=['Code', 'Entity', 'Year'])\n"
   ]
  },
  {
   "attachments": {},
   "cell_type": "markdown",
   "metadata": {},
   "source": [
    "## ML Testing"
   ]
  },
  {
   "cell_type": "code",
   "execution_count": null,
   "metadata": {},
   "outputs": [],
   "source": [
    "from sklearn.linear_model import SGDClassifier\n",
    "import numpy as np\n",
    "from sklearn.model_selection import train_test_split\n",
    "\n",
    "no_na = new_compile.dropna(how='any')\n",
    "\n",
    "X = no_na.drop(['continent', 'Entity', 'Code'], axis=1)\n",
    "y = no_na['continent']\n",
    "\n",
    "X_train, X_test, y_train, y_test = train_test_split(X, y, test_size=0.25, random_state=12)\n",
    "\n",
    "clf = SGDClassifier(loss=\"hinge\", penalty=\"l2\", random_state=25)\n",
    "clf.fit(X_train, y_train)\n",
    "SGDClassifier()\n",
    "clf.score(X_test, y_test)"
   ]
  },
  {
   "cell_type": "code",
   "execution_count": null,
   "metadata": {},
   "outputs": [],
   "source": [
    "from sklearn import svm\n",
    "\n",
    "clf2 = svm.SVC()\n",
    "clf2.fit(X_train, y_train)\n",
    "clf2.score(X_test, y_test)"
   ]
  }
 ],
 "metadata": {
  "kernelspec": {
   "display_name": "base",
   "language": "python",
   "name": "python3"
  },
  "language_info": {
   "codemirror_mode": {
    "name": "ipython",
    "version": 3
   },
   "file_extension": ".py",
   "mimetype": "text/x-python",
   "name": "python",
   "nbconvert_exporter": "python",
   "pygments_lexer": "ipython3",
   "version": "3.9.13"
  },
  "orig_nbformat": 4
 },
 "nbformat": 4,
 "nbformat_minor": 2
}

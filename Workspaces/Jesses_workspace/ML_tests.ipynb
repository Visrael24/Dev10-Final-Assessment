{
 "cells": [
  {
   "cell_type": "code",
   "execution_count": 1,
   "metadata": {},
   "outputs": [],
   "source": [
    "import pandas as pd\n",
    "import matplotlib.pyplot as plt"
   ]
  },
  {
   "attachments": {},
   "cell_type": "markdown",
   "metadata": {},
   "source": [
    "## Importing Data"
   ]
  },
  {
   "cell_type": "code",
   "execution_count": 2,
   "metadata": {},
   "outputs": [
    {
     "data": {
      "text/html": [
       "<div>\n",
       "<style scoped>\n",
       "    .dataframe tbody tr th:only-of-type {\n",
       "        vertical-align: middle;\n",
       "    }\n",
       "\n",
       "    .dataframe tbody tr th {\n",
       "        vertical-align: top;\n",
       "    }\n",
       "\n",
       "    .dataframe thead th {\n",
       "        text-align: right;\n",
       "    }\n",
       "</style>\n",
       "<table border=\"1\" class=\"dataframe\">\n",
       "  <thead>\n",
       "    <tr style=\"text-align: right;\">\n",
       "      <th></th>\n",
       "      <th>Entity</th>\n",
       "      <th>Code</th>\n",
       "      <th>Year</th>\n",
       "      <th>kg_per_yr_per_capita</th>\n",
       "      <th>Production_in_tons</th>\n",
       "      <th>Population (historical estimates)</th>\n",
       "      <th>Life_Expectancy_years</th>\n",
       "      <th>continent</th>\n",
       "    </tr>\n",
       "  </thead>\n",
       "  <tbody>\n",
       "    <tr>\n",
       "      <th>0</th>\n",
       "      <td>Afghanistan</td>\n",
       "      <td>AFG</td>\n",
       "      <td>1961</td>\n",
       "      <td>0.030559</td>\n",
       "      <td>300.0</td>\n",
       "      <td>8790140</td>\n",
       "      <td>32.96</td>\n",
       "      <td>Asia</td>\n",
       "    </tr>\n",
       "    <tr>\n",
       "      <th>1</th>\n",
       "      <td>Afghanistan</td>\n",
       "      <td>AFG</td>\n",
       "      <td>1962</td>\n",
       "      <td>0.030578</td>\n",
       "      <td>300.0</td>\n",
       "      <td>8969055</td>\n",
       "      <td>33.47</td>\n",
       "      <td>Asia</td>\n",
       "    </tr>\n",
       "    <tr>\n",
       "      <th>2</th>\n",
       "      <td>Afghanistan</td>\n",
       "      <td>AFG</td>\n",
       "      <td>1963</td>\n",
       "      <td>0.030598</td>\n",
       "      <td>300.0</td>\n",
       "      <td>9157463</td>\n",
       "      <td>33.97</td>\n",
       "      <td>Asia</td>\n",
       "    </tr>\n",
       "    <tr>\n",
       "      <th>3</th>\n",
       "      <td>Afghanistan</td>\n",
       "      <td>AFG</td>\n",
       "      <td>1964</td>\n",
       "      <td>0.030614</td>\n",
       "      <td>300.0</td>\n",
       "      <td>9355510</td>\n",
       "      <td>34.46</td>\n",
       "      <td>Asia</td>\n",
       "    </tr>\n",
       "    <tr>\n",
       "      <th>4</th>\n",
       "      <td>Afghanistan</td>\n",
       "      <td>AFG</td>\n",
       "      <td>1965</td>\n",
       "      <td>0.030627</td>\n",
       "      <td>300.0</td>\n",
       "      <td>9565154</td>\n",
       "      <td>34.95</td>\n",
       "      <td>Asia</td>\n",
       "    </tr>\n",
       "  </tbody>\n",
       "</table>\n",
       "</div>"
      ],
      "text/plain": [
       "        Entity Code  Year  kg_per_yr_per_capita  Production_in_tons  \\\n",
       "0  Afghanistan  AFG  1961              0.030559               300.0   \n",
       "1  Afghanistan  AFG  1962              0.030578               300.0   \n",
       "2  Afghanistan  AFG  1963              0.030598               300.0   \n",
       "3  Afghanistan  AFG  1964              0.030614               300.0   \n",
       "4  Afghanistan  AFG  1965              0.030627               300.0   \n",
       "\n",
       "   Population (historical estimates)  Life_Expectancy_years continent  \n",
       "0                            8790140                  32.96      Asia  \n",
       "1                            8969055                  33.47      Asia  \n",
       "2                            9157463                  33.97      Asia  \n",
       "3                            9355510                  34.46      Asia  \n",
       "4                            9565154                  34.95      Asia  "
      ]
     },
     "execution_count": 2,
     "metadata": {},
     "output_type": "execute_result"
    }
   ],
   "source": [
    "final_df = pd.read_csv('../../Data/final_csv_all_data.csv')\n",
    "final_df.head()"
   ]
  },
  {
   "cell_type": "code",
   "execution_count": 4,
   "metadata": {},
   "outputs": [],
   "source": [
    "protein_all = pd.read_csv('Data/all_protein_consumption_sources.csv')\n",
    "protein_animal = pd.read_csv('Data/animal_protein_consumption.csv')"
   ]
  },
  {
   "cell_type": "code",
   "execution_count": 5,
   "metadata": {},
   "outputs": [],
   "source": [
    "col_to_merge = ['Entity', 'Code', 'Year', 'fish_and_seafood_kg_protein_per_capita', 'percent_fish_total_protein_per_capita']\n",
    "compiled_df = final_df.merge(protein_all[col_to_merge], on=['Entity', 'Code', 'Year'])\n",
    "\n",
    "col_to_merge = ['Entity', 'Code', 'Year', 'percent_fish_protein_all_animal']\n",
    "compiled_df = compiled_df.merge(protein_animal[col_to_merge], on=['Entity', 'Code', 'Year'])\n"
   ]
  },
  {
   "attachments": {},
   "cell_type": "markdown",
   "metadata": {},
   "source": [
    "## ML Testing"
   ]
  },
  {
   "cell_type": "code",
   "execution_count": 7,
   "metadata": {},
   "outputs": [
    {
     "data": {
      "text/plain": [
       "0.22747635639621702"
      ]
     },
     "execution_count": 7,
     "metadata": {},
     "output_type": "execute_result"
    }
   ],
   "source": [
    "from sklearn.linear_model import SGDClassifier\n",
    "import numpy as np\n",
    "from sklearn.model_selection import train_test_split\n",
    "\n",
    "no_na = compiled_df.dropna(how='any')\n",
    "\n",
    "X = no_na.drop(['continent', 'Entity', 'Code'], axis=1)\n",
    "y = no_na['continent']\n",
    "\n",
    "X_train, X_test, y_train, y_test = train_test_split(X, y, test_size=0.25, random_state=12)\n",
    "\n",
    "clf = SGDClassifier(loss=\"hinge\", penalty=\"l2\", random_state=25)\n",
    "clf.fit(X_train, y_train)\n",
    "SGDClassifier()\n",
    "clf.score(X_test, y_test)"
   ]
  },
  {
   "cell_type": "code",
   "execution_count": 8,
   "metadata": {},
   "outputs": [
    {
     "data": {
      "text/plain": [
       "0.3429566948730712"
      ]
     },
     "execution_count": 8,
     "metadata": {},
     "output_type": "execute_result"
    }
   ],
   "source": [
    "from sklearn import svm\n",
    "\n",
    "clf2 = svm.SVC()\n",
    "clf2.fit(X_train, y_train)\n",
    "clf2.score(X_test, y_test)"
   ]
  },
  {
   "cell_type": "code",
   "execution_count": 2,
   "metadata": {},
   "outputs": [],
   "source": [
    "import pandas as pd\n",
    "df = pd.read_csv('./Data/joined_sets.csv')"
   ]
  },
  {
   "cell_type": "code",
   "execution_count": null,
   "metadata": {},
   "outputs": [],
   "source": []
  }
 ],
 "metadata": {
  "kernelspec": {
   "display_name": "base",
   "language": "python",
   "name": "python3"
  },
  "language_info": {
   "codemirror_mode": {
    "name": "ipython",
    "version": 3
   },
   "file_extension": ".py",
   "mimetype": "text/x-python",
   "name": "python",
   "nbconvert_exporter": "python",
   "pygments_lexer": "ipython3",
   "version": "3.9.13"
  },
  "orig_nbformat": 4
 },
 "nbformat": 4,
 "nbformat_minor": 2
}
